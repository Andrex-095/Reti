{
 "cells": [
  {
   "cell_type": "markdown",
   "metadata": {},
   "source": [
    "[Jupyter Notebook](https://jupyter.org/) per implementare il *longest prefix matching* usando `ipaddress`.\n",
    "\n",
    "Fate riferimento a questo [tutorial](https://docs.python.org/3/howto/ipaddress.html) per maggiori informazioni."
   ]
  },
  {
   "cell_type": "markdown",
   "metadata": {},
   "source": [
    "Per prima cosa importiamo tutto quello che ci servirà."
   ]
  },
  {
   "cell_type": "code",
   "execution_count": 2,
   "metadata": {},
   "outputs": [],
   "source": [
    "import ipaddress"
   ]
  },
  {
   "cell_type": "markdown",
   "metadata": {},
   "source": [
    "Tabella di inoltro (*basato sulla destinazione*)"
   ]
  },
  {
   "cell_type": "code",
   "execution_count": 3,
   "metadata": {},
   "outputs": [],
   "source": [
    "forwarding_table = [\n",
    "    (\"142.251.200.0/24\", 0),\n",
    "    (\"142.251.192.0/18\", 1),\n",
    "    (\"142.251.0.0/16\", 2),\n",
    "    (\"0.0.0.0/0\", 3)\n",
    "]"
   ]
  },
  {
   "cell_type": "markdown",
   "metadata": {},
   "source": [
    "Indirizzo di destinazione del pacchetto da instradare."
   ]
  },
  {
   "cell_type": "code",
   "execution_count": 4,
   "metadata": {},
   "outputs": [],
   "source": [
    "destination = '142.251.209.3'"
   ]
  },
  {
   "cell_type": "markdown",
   "metadata": {},
   "source": [
    "Itero sulle voci della tabella di inoltro, confrontando per ciascuna di esse l'indirizzo di destinazione con il prefisso di rete indicato. Prendo l'uscita cui corrisponde il prefisso più lungo."
   ]
  },
  {
   "cell_type": "code",
   "execution_count": 5,
   "metadata": {},
   "outputs": [
    {
     "name": "stdout",
     "output_type": "stream",
     "text": [
      "Check IP address 142.251.209.3 against route 142.251.200.0/24 via link 0...not ok\n",
      "Check IP address 142.251.209.3 against route 142.251.192.0/18 via link 1...ok [select new link]\n",
      "Check IP address 142.251.209.3 against route 142.251.0.0/16 via link 2...ok\n",
      "Check IP address 142.251.209.3 against route 0.0.0.0/0 via link 3...ok\n",
      "The packet destinated to 142.251.209.3 will be forwared through the output link 1\n"
     ]
    }
   ],
   "source": [
    "output_link = None\n",
    "matched_prefix_length = 0\n",
    "destaddr = ipaddress.ip_address(destination)\n",
    "for prefix, link in forwarding_table:\n",
    "    netaddr = ipaddress.ip_network(prefix)\n",
    "    print(f'Check IP address {destaddr} against route {netaddr} via link {link}...', end='')\n",
    "    if destaddr in netaddr:\n",
    "        print('ok', end='')\n",
    "        if netaddr.prefixlen >= matched_prefix_length:\n",
    "            matched_prefix_length = netaddr.prefixlen\n",
    "            output_link = link\n",
    "            print(' [select new link]')\n",
    "        else:\n",
    "            print()\n",
    "    else:\n",
    "        print('not ok')\n",
    "    \n",
    "\n",
    "print(f'The packet destinated to {destaddr} will be forwared through the output link {output_link}')"
   ]
  },
  {
   "cell_type": "markdown",
   "metadata": {},
   "source": [
    "Quello proposto è un algoritmo molto sempice, finalizzato alla semplicità di comprensione piuttosto che alle prestazioni."
   ]
  }
 ],
 "metadata": {
  "kernelspec": {
   "display_name": "Python 3",
   "language": "python",
   "name": "python3"
  },
  "language_info": {
   "codemirror_mode": {
    "name": "ipython",
    "version": 3
   },
   "file_extension": ".py",
   "mimetype": "text/x-python",
   "name": "python",
   "nbconvert_exporter": "python",
   "pygments_lexer": "ipython3",
   "version": "3.10.12"
  }
 },
 "nbformat": 4,
 "nbformat_minor": 2
}
