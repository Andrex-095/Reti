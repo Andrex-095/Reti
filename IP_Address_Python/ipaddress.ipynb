{
 "cells": [
  {
   "cell_type": "markdown",
   "metadata": {},
   "source": [
    "[Jupyter Notebook](https://jupyter.org/) per mostare l'uso di base del modulo `ipaddress`.\n",
    "\n",
    "Fate riferimento a questo [tutorial](https://docs.python.org/3/howto/ipaddress.html) per maggiori informazioni."
   ]
  },
  {
   "cell_type": "markdown",
   "metadata": {},
   "source": [
    "Per prima cosa importiamo tutto quello che ci servirà."
   ]
  },
  {
   "cell_type": "code",
   "execution_count": 1,
   "metadata": {},
   "outputs": [],
   "source": [
    "import ipaddress"
   ]
  },
  {
   "cell_type": "markdown",
   "metadata": {},
   "source": [
    "Il modulo `ipaddress` supporta tre tipi di oggetto:\n",
    "* indirizzi (degli host): solo indirizzo IP\n",
    "* indirizzi delle reti: indirizzo di rete associato ad una maschera/lunghezza del prefisso (che definisce un insieme di indirizzi che hanno lo stesso prefisso)\n",
    "* indirizzi delle interfacce: ibrido tra i due, in quanto combina le informazioni sulla lunghezza del prefisso con una parte di host non zero"
   ]
  },
  {
   "cell_type": "code",
   "execution_count": 2,
   "metadata": {},
   "outputs": [
    {
     "name": "stdout",
     "output_type": "stream",
     "text": [
      "IPv4Address('142.251.209.3')\n",
      "IPv4Address('142.251.209.3')\n"
     ]
    }
   ],
   "source": [
    "addr1 = ipaddress.ip_address('142.251.209.3')   # factory in grado di riconoscere notazione IPv4 e IPv6\n",
    "addr2 = ipaddress.IPv4Address('142.251.209.3')  # costruttore per gli indirizzi IPv4\n",
    "print(repr(addr1))\n",
    "print(repr(addr2))"
   ]
  },
  {
   "cell_type": "markdown",
   "metadata": {},
   "source": [
    "Gli indirizzi possono essere convertiti in numeri"
   ]
  },
  {
   "cell_type": "code",
   "execution_count": 3,
   "metadata": {},
   "outputs": [
    {
     "data": {
      "text/plain": [
       "2398867715"
      ]
     },
     "execution_count": 3,
     "metadata": {},
     "output_type": "execute_result"
    }
   ],
   "source": [
    "int(ipaddress.IPv4Address('142.251.209.3'))"
   ]
  },
  {
   "cell_type": "markdown",
   "metadata": {},
   "source": [
    "Gli oggetti possono essere *formattati* come stringhe. Per gli indirizzi IPv4 usa di base la *notazione decimale puntata*."
   ]
  },
  {
   "cell_type": "code",
   "execution_count": 4,
   "metadata": {},
   "outputs": [
    {
     "data": {
      "text/plain": [
       "'142.251.209.3'"
      ]
     },
     "execution_count": 4,
     "metadata": {},
     "output_type": "execute_result"
    }
   ],
   "source": [
    "str(ipaddress.IPv4Address('142.251.209.3'))"
   ]
  },
  {
   "cell_type": "markdown",
   "metadata": {},
   "source": [
    "Usa una `f-string` dove chiedo di formattarlo in maniera numerica (`n`: binario nel caso IPv4 e esadecimale nel caso IPv6) con separatore (`_`). Uso `replace` per usare invece lo spazio come separatore."
   ]
  },
  {
   "cell_type": "code",
   "execution_count": 5,
   "metadata": {},
   "outputs": [
    {
     "data": {
      "text/plain": [
       "'1000 1110 1111 1011 1101 0001 0000 0011'"
      ]
     },
     "execution_count": 5,
     "metadata": {},
     "output_type": "execute_result"
    }
   ],
   "source": [
    "f\"{ipaddress.IPv4Address('142.251.209.3'):_n}\".replace('_', ' ')"
   ]
  },
  {
   "cell_type": "markdown",
   "metadata": {},
   "source": [
    "Possiamo confrontare due indirizzi secondo l'ordine consueto. Il confronto come stringa potrebbe invece portare a risultati sbagliati (si noti, che per esempio '100' è minore di '2')"
   ]
  },
  {
   "cell_type": "code",
   "execution_count": 6,
   "metadata": {},
   "outputs": [
    {
     "data": {
      "text/plain": [
       "True"
      ]
     },
     "execution_count": 6,
     "metadata": {},
     "output_type": "execute_result"
    }
   ],
   "source": [
    "a = ipaddress.IPv4Address('142.251.209.3')\n",
    "b = ipaddress.IPv4Address('142.251.209.4')\n",
    "a < b"
   ]
  },
  {
   "cell_type": "markdown",
   "metadata": {},
   "source": [
    "Possiamo sommare o sottrarre numeri da un indirizzo."
   ]
  },
  {
   "cell_type": "code",
   "execution_count": 7,
   "metadata": {},
   "outputs": [
    {
     "data": {
      "text/plain": [
       "IPv4Address('142.251.209.4')"
      ]
     },
     "execution_count": 7,
     "metadata": {},
     "output_type": "execute_result"
    }
   ],
   "source": [
    "a = ipaddress.IPv4Address('142.251.209.3')\n",
    "a + 1"
   ]
  },
  {
   "cell_type": "markdown",
   "metadata": {},
   "source": [
    "Considerando la sua rappresentazione binaria, abbiamo avuto modo di vedere che l'indirizzo IP `142.251.209.3` è di classe B, quindi la parte di rete e quella di host sono entrambe lunghe 16 bit.\n",
    "Possiamo costruire un `interface address` per rappresentare l'indirizzo IP insieme con le informazioni sulla *subnet mask* "
   ]
  },
  {
   "cell_type": "code",
   "execution_count": 8,
   "metadata": {},
   "outputs": [
    {
     "name": "stdout",
     "output_type": "stream",
     "text": [
      "IPv4Interface('142.251.209.3/16')\n",
      "IPv4Interface('142.251.209.3/16')\n"
     ]
    }
   ],
   "source": [
    "addr1 = ipaddress.ip_interface('142.251.209.3/16')     # factory in grado di riconoscere notazione IPv4 e IPv6\n",
    "addr2 = ipaddress.IPv4Interface('142.251.209.3/16')    # costruttore per interfacce IPv4\n",
    "print(repr(addr1))\n",
    "print(repr(addr2))"
   ]
  },
  {
   "cell_type": "markdown",
   "metadata": {},
   "source": [
    "Dalla interfaccia posso ottenere varie informazioni."
   ]
  },
  {
   "cell_type": "markdown",
   "metadata": {},
   "source": [
    "Subnet mask: indica quali bit appartengono alla parte di rete"
   ]
  },
  {
   "cell_type": "code",
   "execution_count": 9,
   "metadata": {},
   "outputs": [
    {
     "data": {
      "text/plain": [
       "IPv4Address('255.255.0.0')"
      ]
     },
     "execution_count": 9,
     "metadata": {},
     "output_type": "execute_result"
    }
   ],
   "source": [
    "addr1.netmask"
   ]
  },
  {
   "cell_type": "markdown",
   "metadata": {},
   "source": [
    "Host mask: indica quali bit appartendono alla parte dell'host"
   ]
  },
  {
   "cell_type": "code",
   "execution_count": 10,
   "metadata": {},
   "outputs": [
    {
     "data": {
      "text/plain": [
       "IPv4Address('0.0.255.255')"
      ]
     },
     "execution_count": 10,
     "metadata": {},
     "output_type": "execute_result"
    }
   ],
   "source": [
    "addr1.hostmask"
   ]
  },
  {
   "cell_type": "markdown",
   "metadata": {},
   "source": [
    "Indirizzo (dell'host) senza informazioni sulla sottorete"
   ]
  },
  {
   "cell_type": "code",
   "execution_count": 11,
   "metadata": {},
   "outputs": [
    {
     "data": {
      "text/plain": [
       "IPv4Address('142.251.209.3')"
      ]
     },
     "execution_count": 11,
     "metadata": {},
     "output_type": "execute_result"
    }
   ],
   "source": [
    "addr1.ip"
   ]
  },
  {
   "cell_type": "markdown",
   "metadata": {},
   "source": [
    "Indirizzo della rete"
   ]
  },
  {
   "cell_type": "code",
   "execution_count": 12,
   "metadata": {},
   "outputs": [
    {
     "data": {
      "text/plain": [
       "IPv4Network('142.251.0.0/16')"
      ]
     },
     "execution_count": 12,
     "metadata": {},
     "output_type": "execute_result"
    }
   ],
   "source": [
    "addr1.network"
   ]
  },
  {
   "cell_type": "markdown",
   "metadata": {},
   "source": [
    "Anche per gli indirizzi di rete ho due modi per costruirli."
   ]
  },
  {
   "cell_type": "code",
   "execution_count": 13,
   "metadata": {},
   "outputs": [
    {
     "name": "stdout",
     "output_type": "stream",
     "text": [
      "IPv4Network('142.251.0.0/16')\n",
      "IPv4Network('142.251.0.0/16')\n"
     ]
    }
   ],
   "source": [
    "print(repr(ipaddress.ip_network('142.251.0.0/16')))\n",
    "print(repr(ipaddress.IPv4Network('142.251.0.0/16')))\n"
   ]
  },
  {
   "cell_type": "markdown",
   "metadata": {},
   "source": [
    "Lunghezza del prefisso di una rete"
   ]
  },
  {
   "cell_type": "code",
   "execution_count": 14,
   "metadata": {},
   "outputs": [
    {
     "data": {
      "text/plain": [
       "16"
      ]
     },
     "execution_count": 14,
     "metadata": {},
     "output_type": "execute_result"
    }
   ],
   "source": [
    "ipaddress.IPv4Network('142.251.0.0/16').prefixlen"
   ]
  },
  {
   "cell_type": "markdown",
   "metadata": {},
   "source": [
    "O sua netmask"
   ]
  },
  {
   "cell_type": "code",
   "execution_count": 15,
   "metadata": {},
   "outputs": [
    {
     "data": {
      "text/plain": [
       "IPv4Address('255.255.0.0')"
      ]
     },
     "execution_count": 15,
     "metadata": {},
     "output_type": "execute_result"
    }
   ],
   "source": [
    "ipaddress.IPv4Network('142.251.0.0/16').netmask"
   ]
  },
  {
   "cell_type": "markdown",
   "metadata": {},
   "source": [
    "E hostmask"
   ]
  },
  {
   "cell_type": "code",
   "execution_count": 16,
   "metadata": {},
   "outputs": [
    {
     "data": {
      "text/plain": [
       "IPv4Address('0.0.255.255')"
      ]
     },
     "execution_count": 16,
     "metadata": {},
     "output_type": "execute_result"
    }
   ],
   "source": [
    "ipaddress.IPv4Network('142.251.0.0/16').hostmask"
   ]
  },
  {
   "cell_type": "markdown",
   "metadata": {},
   "source": [
    "Posso sapere l'indirizzo di broadcast di una rete"
   ]
  },
  {
   "cell_type": "code",
   "execution_count": 17,
   "metadata": {},
   "outputs": [
    {
     "data": {
      "text/plain": [
       "IPv4Address('142.251.255.255')"
      ]
     },
     "execution_count": 17,
     "metadata": {},
     "output_type": "execute_result"
    }
   ],
   "source": [
    "ipaddress.IPv4Network('142.251.0.0/16').broadcast_address"
   ]
  },
  {
   "cell_type": "markdown",
   "metadata": {},
   "source": [
    "Posso sapere il numero di indirizzi in una rete (comprensivi dell'indirizzo della rete e di quello di broadcast)"
   ]
  },
  {
   "cell_type": "code",
   "execution_count": 18,
   "metadata": {},
   "outputs": [
    {
     "data": {
      "text/plain": [
       "65536"
      ]
     },
     "execution_count": 18,
     "metadata": {},
     "output_type": "execute_result"
    }
   ],
   "source": [
    "ipaddress.IPv4Network('142.251.0.0/16').num_addresses"
   ]
  },
  {
   "cell_type": "markdown",
   "metadata": {},
   "source": [
    "Posso anche enumerare sugli indirizzi in generale e su quelli degli host."
   ]
  },
  {
   "cell_type": "code",
   "execution_count": 19,
   "metadata": {},
   "outputs": [
    {
     "name": "stdout",
     "output_type": "stream",
     "text": [
      "142.251.0.0\n",
      "142.251.0.1\n",
      "142.251.0.2\n",
      "142.251.0.3\n",
      "142.251.0.4\n",
      "142.251.0.5\n",
      "142.251.0.6\n",
      "142.251.0.7\n",
      "142.251.0.8\n",
      "142.251.0.9\n",
      "...\n"
     ]
    }
   ],
   "source": [
    "import itertools\n",
    "for a in itertools.islice(ipaddress.IPv4Network('142.251.0.0/16'), 10):\n",
    "    print(a)\n",
    "print('...')"
   ]
  },
  {
   "cell_type": "code",
   "execution_count": 20,
   "metadata": {},
   "outputs": [
    {
     "name": "stdout",
     "output_type": "stream",
     "text": [
      "142.251.0.1\n",
      "142.251.0.2\n",
      "142.251.0.3\n",
      "142.251.0.4\n",
      "142.251.0.5\n",
      "142.251.0.6\n",
      "142.251.0.7\n",
      "142.251.0.8\n",
      "142.251.0.9\n",
      "142.251.0.10\n",
      "...\n"
     ]
    }
   ],
   "source": [
    "import itertools\n",
    "for a in itertools.islice(ipaddress.IPv4Network('142.251.0.0/16').hosts(), 10):\n",
    "    print(a)\n",
    "print('...')"
   ]
  }
 ],
 "metadata": {
  "kernelspec": {
   "display_name": "Python 3",
   "language": "python",
   "name": "python3"
  },
  "language_info": {
   "codemirror_mode": {
    "name": "ipython",
    "version": 3
   },
   "file_extension": ".py",
   "mimetype": "text/x-python",
   "name": "python",
   "nbconvert_exporter": "python",
   "pygments_lexer": "ipython3",
   "version": "3.10.12"
  }
 },
 "nbformat": 4,
 "nbformat_minor": 2
}
