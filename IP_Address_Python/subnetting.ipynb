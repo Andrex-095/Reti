{
 "cells": [
  {
   "cell_type": "markdown",
   "metadata": {},
   "source": [
    "[Jupyter Notebook](https://jupyter.org/) per implementare il *subnetting* usando `ipaddress`.\n",
    "\n",
    "Fate riferimento a questo [tutorial](https://docs.python.org/3/howto/ipaddress.html) per maggiori informazioni."
   ]
  },
  {
   "cell_type": "markdown",
   "metadata": {},
   "source": [
    "Per prima cosa importiamo tutto quello che ci servirà."
   ]
  },
  {
   "cell_type": "code",
   "execution_count": 1,
   "metadata": {},
   "outputs": [],
   "source": [
    "import ipaddress"
   ]
  },
  {
   "cell_type": "markdown",
   "metadata": {},
   "source": [
    "Indirizzo di rete da estendere e numero di bit di cui estendere."
   ]
  },
  {
   "cell_type": "code",
   "execution_count": 2,
   "metadata": {},
   "outputs": [],
   "source": [
    "network_address = ipaddress.IPv4Network('131.175.0.0/21')\n",
    "diff = 1"
   ]
  },
  {
   "cell_type": "code",
   "execution_count": 3,
   "metadata": {},
   "outputs": [
    {
     "name": "stdout",
     "output_type": "stream",
     "text": [
      "131.175.0.0/22\n",
      "131.175.4.0/22\n"
     ]
    }
   ],
   "source": [
    "for subnet in network_address.subnets(prefixlen_diff=diff):\n",
    "    print(subnet)"
   ]
  },
  {
   "cell_type": "markdown",
   "metadata": {},
   "source": [
    "Si può altrimenti dare la nuova lunghezza del prefisso"
   ]
  },
  {
   "cell_type": "code",
   "execution_count": 4,
   "metadata": {},
   "outputs": [],
   "source": [
    "network_address = ipaddress.IPv4Network('131.175.0.0/21')\n",
    "prefixlen = 22"
   ]
  },
  {
   "cell_type": "code",
   "execution_count": 5,
   "metadata": {},
   "outputs": [
    {
     "name": "stdout",
     "output_type": "stream",
     "text": [
      "131.175.0.0/22\n",
      "131.175.4.0/22\n"
     ]
    }
   ],
   "source": [
    "for subnet in network_address.subnets(new_prefix=prefixlen):\n",
    "    print(subnet)"
   ]
  },
  {
   "cell_type": "markdown",
   "metadata": {},
   "source": [
    "Oppure, in maniera più compatta."
   ]
  },
  {
   "cell_type": "code",
   "execution_count": 6,
   "metadata": {},
   "outputs": [
    {
     "data": {
      "text/plain": [
       "[IPv4Network('131.175.0.0/22'), IPv4Network('131.175.4.0/22')]"
      ]
     },
     "execution_count": 6,
     "metadata": {},
     "output_type": "execute_result"
    }
   ],
   "source": [
    "[x for x in network_address.subnets(new_prefix=prefixlen)]"
   ]
  },
  {
   "cell_type": "markdown",
   "metadata": {},
   "source": [
    "Esiste anche l'operazione inversa che accorcia un prefisso di rete."
   ]
  },
  {
   "cell_type": "code",
   "execution_count": 7,
   "metadata": {},
   "outputs": [
    {
     "name": "stdout",
     "output_type": "stream",
     "text": [
      "IPv4Network('131.175.0.0/21')\n",
      "IPv4Network('131.175.0.0/21')\n"
     ]
    }
   ],
   "source": [
    "subnet_address = ipaddress.IPv4Network('131.175.4.0/22')\n",
    "print(repr(subnet_address.supernet(prefixlen_diff=1)))\n",
    "print(repr(subnet_address.supernet(new_prefix=21)))\n"
   ]
  },
  {
   "cell_type": "markdown",
   "metadata": {},
   "source": [
    "Possiamo anche chiedere se una rete sia una sottorete di un'altra"
   ]
  },
  {
   "cell_type": "code",
   "execution_count": 8,
   "metadata": {},
   "outputs": [
    {
     "name": "stdout",
     "output_type": "stream",
     "text": [
      "True\n"
     ]
    }
   ],
   "source": [
    "net1 = ipaddress.IPv4Network('131.175.0.0/21')\n",
    "net2 = ipaddress.IPv4Network('131.175.4.0/22')\n",
    "print(net1.subnet_of(net1))"
   ]
  }
 ],
 "metadata": {
  "kernelspec": {
   "display_name": "Python 3",
   "language": "python",
   "name": "python3"
  },
  "language_info": {
   "codemirror_mode": {
    "name": "ipython",
    "version": 3
   },
   "file_extension": ".py",
   "mimetype": "text/x-python",
   "name": "python",
   "nbconvert_exporter": "python",
   "pygments_lexer": "ipython3",
   "version": "3.10.12"
  }
 },
 "nbformat": 4,
 "nbformat_minor": 2
}
